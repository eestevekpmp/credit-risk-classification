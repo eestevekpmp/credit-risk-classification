{
  "cells": [
    {
      "cell_type": "markdown",
      "metadata": {
        "id": "view-in-github",
        "colab_type": "text"
      },
      "source": [
        "<a href=\"https://colab.research.google.com/github/eestevekpmp/credit-risk-classification/blob/main/credit_risk_classification.ipynb\" target=\"_parent\"><img src=\"https://colab.research.google.com/assets/colab-badge.svg\" alt=\"Open In Colab\"/></a>"
      ]
    },
    {
      "cell_type": "code",
      "source": [
        "%env HV_DOC_HTML=True"
      ],
      "metadata": {
        "colab": {
          "base_uri": "https://localhost:8080/"
        },
        "id": "aQgNO23bssvZ",
        "outputId": "699764c2-4b6c-4356-d690-c8290035dade"
      },
      "execution_count": 1,
      "outputs": [
        {
          "output_type": "stream",
          "name": "stdout",
          "text": [
            "env: HV_DOC_HTML=True\n"
          ]
        }
      ]
    },
    {
      "cell_type": "code",
      "source": [
        "pip install -q hvplot"
      ],
      "metadata": {
        "colab": {
          "base_uri": "https://localhost:8080/"
        },
        "id": "62zyVvMxsrPU",
        "outputId": "9b82d2ef-97cd-4f81-eac7-ec0e70f6a2c1"
      },
      "execution_count": 2,
      "outputs": [
        {
          "output_type": "stream",
          "name": "stdout",
          "text": [
            "\u001b[?25l     \u001b[90m━━━━━━━━━━━━━━━━━━━━━━━━━━━━━━━━━━━━━━━━\u001b[0m \u001b[32m0.0/3.2 MB\u001b[0m \u001b[31m?\u001b[0m eta \u001b[36m-:--:--\u001b[0m\r\u001b[2K     \u001b[91m━━━\u001b[0m\u001b[90m╺\u001b[0m\u001b[90m━━━━━━━━━━━━━━━━━━━━━━━━━━━━━━━━━━━━\u001b[0m \u001b[32m0.3/3.2 MB\u001b[0m \u001b[31m8.1 MB/s\u001b[0m eta \u001b[36m0:00:01\u001b[0m\r\u001b[2K     \u001b[91m━━━━━━━━━━━━━━━━━━━━━━━\u001b[0m\u001b[90m╺\u001b[0m\u001b[90m━━━━━━━━━━━━━━━━\u001b[0m \u001b[32m1.8/3.2 MB\u001b[0m \u001b[31m26.6 MB/s\u001b[0m eta \u001b[36m0:00:01\u001b[0m\r\u001b[2K     \u001b[91m━━━━━━━━━━━━━━━━━━━━━━━━━━━━━━━━━━━━━━━\u001b[0m\u001b[91m╸\u001b[0m \u001b[32m3.2/3.2 MB\u001b[0m \u001b[31m39.4 MB/s\u001b[0m eta \u001b[36m0:00:01\u001b[0m\r\u001b[2K     \u001b[90m━━━━━━━━━━━━━━━━━━━━━━━━━━━━━━━━━━━━━━━━\u001b[0m \u001b[32m3.2/3.2 MB\u001b[0m \u001b[31m26.5 MB/s\u001b[0m eta \u001b[36m0:00:00\u001b[0m\n",
            "\u001b[?25h"
          ]
        }
      ]
    },
    {
      "cell_type": "code",
      "source": [
        "pip install -q holoviews"
      ],
      "metadata": {
        "id": "Ofz8UuYjssPH"
      },
      "execution_count": 3,
      "outputs": []
    },
    {
      "cell_type": "code",
      "execution_count": 4,
      "metadata": {
        "id": "5t2KxUJaqKNJ"
      },
      "outputs": [],
      "source": [
        "# Import the modules\n",
        "import numpy as np\n",
        "import pandas as pd\n",
        "from pathlib import Path\n",
        "from sklearn.metrics import balanced_accuracy_score, confusion_matrix, classification_report"
      ]
    },
    {
      "cell_type": "markdown",
      "metadata": {
        "id": "rcFUkbbsqKNN"
      },
      "source": [
        "---"
      ]
    },
    {
      "cell_type": "markdown",
      "metadata": {
        "id": "e3aExwxpqKNP"
      },
      "source": [
        "## Split the Data into Training and Testing Sets"
      ]
    },
    {
      "cell_type": "markdown",
      "metadata": {
        "id": "Zmlip-yfqKNP"
      },
      "source": [
        "### Step 1: Read the `lending_data.csv` data from the `Resources` folder into a Pandas DataFrame."
      ]
    },
    {
      "cell_type": "code",
      "execution_count": 12,
      "metadata": {
        "colab": {
          "base_uri": "https://localhost:8080/",
          "height": 270
        },
        "id": "WemgX5nUqKNQ",
        "outputId": "593fd31f-a69e-4065-c1ac-a4a2c165461d"
      },
      "outputs": [
        {
          "output_type": "execute_result",
          "data": {
            "text/plain": [
              "   loan_size  interest_rate  borrower_income  debt_to_income  num_of_accounts  \\\n",
              "0    10700.0          7.672            52800        0.431818                5   \n",
              "1     8400.0          6.692            43600        0.311927                3   \n",
              "2     9000.0          6.963            46100        0.349241                3   \n",
              "3    10700.0          7.664            52700        0.430740                5   \n",
              "4    10800.0          7.698            53000        0.433962                5   \n",
              "\n",
              "   derogatory_marks  total_debt  loan_status  \n",
              "0                 1       22800            0  \n",
              "1                 0       13600            0  \n",
              "2                 0       16100            0  \n",
              "3                 1       22700            0  \n",
              "4                 1       23000            0  "
            ],
            "text/html": [
              "\n",
              "  <div id=\"df-9a4f1f92-7064-497f-ac84-8aba72c1b6df\">\n",
              "    <div class=\"colab-df-container\">\n",
              "      <div>\n",
              "<style scoped>\n",
              "    .dataframe tbody tr th:only-of-type {\n",
              "        vertical-align: middle;\n",
              "    }\n",
              "\n",
              "    .dataframe tbody tr th {\n",
              "        vertical-align: top;\n",
              "    }\n",
              "\n",
              "    .dataframe thead th {\n",
              "        text-align: right;\n",
              "    }\n",
              "</style>\n",
              "<table border=\"1\" class=\"dataframe\">\n",
              "  <thead>\n",
              "    <tr style=\"text-align: right;\">\n",
              "      <th></th>\n",
              "      <th>loan_size</th>\n",
              "      <th>interest_rate</th>\n",
              "      <th>borrower_income</th>\n",
              "      <th>debt_to_income</th>\n",
              "      <th>num_of_accounts</th>\n",
              "      <th>derogatory_marks</th>\n",
              "      <th>total_debt</th>\n",
              "      <th>loan_status</th>\n",
              "    </tr>\n",
              "  </thead>\n",
              "  <tbody>\n",
              "    <tr>\n",
              "      <th>0</th>\n",
              "      <td>10700.0</td>\n",
              "      <td>7.672</td>\n",
              "      <td>52800</td>\n",
              "      <td>0.431818</td>\n",
              "      <td>5</td>\n",
              "      <td>1</td>\n",
              "      <td>22800</td>\n",
              "      <td>0</td>\n",
              "    </tr>\n",
              "    <tr>\n",
              "      <th>1</th>\n",
              "      <td>8400.0</td>\n",
              "      <td>6.692</td>\n",
              "      <td>43600</td>\n",
              "      <td>0.311927</td>\n",
              "      <td>3</td>\n",
              "      <td>0</td>\n",
              "      <td>13600</td>\n",
              "      <td>0</td>\n",
              "    </tr>\n",
              "    <tr>\n",
              "      <th>2</th>\n",
              "      <td>9000.0</td>\n",
              "      <td>6.963</td>\n",
              "      <td>46100</td>\n",
              "      <td>0.349241</td>\n",
              "      <td>3</td>\n",
              "      <td>0</td>\n",
              "      <td>16100</td>\n",
              "      <td>0</td>\n",
              "    </tr>\n",
              "    <tr>\n",
              "      <th>3</th>\n",
              "      <td>10700.0</td>\n",
              "      <td>7.664</td>\n",
              "      <td>52700</td>\n",
              "      <td>0.430740</td>\n",
              "      <td>5</td>\n",
              "      <td>1</td>\n",
              "      <td>22700</td>\n",
              "      <td>0</td>\n",
              "    </tr>\n",
              "    <tr>\n",
              "      <th>4</th>\n",
              "      <td>10800.0</td>\n",
              "      <td>7.698</td>\n",
              "      <td>53000</td>\n",
              "      <td>0.433962</td>\n",
              "      <td>5</td>\n",
              "      <td>1</td>\n",
              "      <td>23000</td>\n",
              "      <td>0</td>\n",
              "    </tr>\n",
              "  </tbody>\n",
              "</table>\n",
              "</div>\n",
              "      <button class=\"colab-df-convert\" onclick=\"convertToInteractive('df-9a4f1f92-7064-497f-ac84-8aba72c1b6df')\"\n",
              "              title=\"Convert this dataframe to an interactive table.\"\n",
              "              style=\"display:none;\">\n",
              "        \n",
              "  <svg xmlns=\"http://www.w3.org/2000/svg\" height=\"24px\"viewBox=\"0 0 24 24\"\n",
              "       width=\"24px\">\n",
              "    <path d=\"M0 0h24v24H0V0z\" fill=\"none\"/>\n",
              "    <path d=\"M18.56 5.44l.94 2.06.94-2.06 2.06-.94-2.06-.94-.94-2.06-.94 2.06-2.06.94zm-11 1L8.5 8.5l.94-2.06 2.06-.94-2.06-.94L8.5 2.5l-.94 2.06-2.06.94zm10 10l.94 2.06.94-2.06 2.06-.94-2.06-.94-.94-2.06-.94 2.06-2.06.94z\"/><path d=\"M17.41 7.96l-1.37-1.37c-.4-.4-.92-.59-1.43-.59-.52 0-1.04.2-1.43.59L10.3 9.45l-7.72 7.72c-.78.78-.78 2.05 0 2.83L4 21.41c.39.39.9.59 1.41.59.51 0 1.02-.2 1.41-.59l7.78-7.78 2.81-2.81c.8-.78.8-2.07 0-2.86zM5.41 20L4 18.59l7.72-7.72 1.47 1.35L5.41 20z\"/>\n",
              "  </svg>\n",
              "      </button>\n",
              "      \n",
              "  <style>\n",
              "    .colab-df-container {\n",
              "      display:flex;\n",
              "      flex-wrap:wrap;\n",
              "      gap: 12px;\n",
              "    }\n",
              "\n",
              "    .colab-df-convert {\n",
              "      background-color: #E8F0FE;\n",
              "      border: none;\n",
              "      border-radius: 50%;\n",
              "      cursor: pointer;\n",
              "      display: none;\n",
              "      fill: #1967D2;\n",
              "      height: 32px;\n",
              "      padding: 0 0 0 0;\n",
              "      width: 32px;\n",
              "    }\n",
              "\n",
              "    .colab-df-convert:hover {\n",
              "      background-color: #E2EBFA;\n",
              "      box-shadow: 0px 1px 2px rgba(60, 64, 67, 0.3), 0px 1px 3px 1px rgba(60, 64, 67, 0.15);\n",
              "      fill: #174EA6;\n",
              "    }\n",
              "\n",
              "    [theme=dark] .colab-df-convert {\n",
              "      background-color: #3B4455;\n",
              "      fill: #D2E3FC;\n",
              "    }\n",
              "\n",
              "    [theme=dark] .colab-df-convert:hover {\n",
              "      background-color: #434B5C;\n",
              "      box-shadow: 0px 1px 3px 1px rgba(0, 0, 0, 0.15);\n",
              "      filter: drop-shadow(0px 1px 2px rgba(0, 0, 0, 0.3));\n",
              "      fill: #FFFFFF;\n",
              "    }\n",
              "  </style>\n",
              "\n",
              "      <script>\n",
              "        const buttonEl =\n",
              "          document.querySelector('#df-9a4f1f92-7064-497f-ac84-8aba72c1b6df button.colab-df-convert');\n",
              "        buttonEl.style.display =\n",
              "          google.colab.kernel.accessAllowed ? 'block' : 'none';\n",
              "\n",
              "        async function convertToInteractive(key) {\n",
              "          const element = document.querySelector('#df-9a4f1f92-7064-497f-ac84-8aba72c1b6df');\n",
              "          const dataTable =\n",
              "            await google.colab.kernel.invokeFunction('convertToInteractive',\n",
              "                                                     [key], {});\n",
              "          if (!dataTable) return;\n",
              "\n",
              "          const docLinkHtml = 'Like what you see? Visit the ' +\n",
              "            '<a target=\"_blank\" href=https://colab.research.google.com/notebooks/data_table.ipynb>data table notebook</a>'\n",
              "            + ' to learn more about interactive tables.';\n",
              "          element.innerHTML = '';\n",
              "          dataTable['output_type'] = 'display_data';\n",
              "          await google.colab.output.renderOutput(dataTable, element);\n",
              "          const docLink = document.createElement('div');\n",
              "          docLink.innerHTML = docLinkHtml;\n",
              "          element.appendChild(docLink);\n",
              "        }\n",
              "      </script>\n",
              "    </div>\n",
              "  </div>\n",
              "  "
            ]
          },
          "metadata": {},
          "execution_count": 12
        }
      ],
      "source": [
        "# Read the CSV file from the Resources folder into a Pandas DataFrame\n",
        "lending_data_DF = pd.read_csv(\n",
        "    \"lending_data.csv\"\n",
        ")\n",
        "\n",
        "# Review the DataFrame\n",
        "lending_data_DF.head()"
      ]
    },
    {
      "cell_type": "markdown",
      "metadata": {
        "id": "iAqzrmpHqKNQ"
      },
      "source": [
        "### Step 2: Create the labels set (`y`)  from the “loan_status” column, and then create the features (`X`) DataFrame from the remaining columns."
      ]
    },
    {
      "cell_type": "code",
      "execution_count": 13,
      "metadata": {
        "id": "RWgHHgaHqKNR"
      },
      "outputs": [],
      "source": [
        "# Separate the data into labels and features\n",
        "\n",
        "# Separate the y variable, the labels\n",
        "y = lending_data_DF[\"loan_status\"]\n",
        "\n",
        "# Separate the X variable, the features\n",
        "x = lending_data_DF.drop(columns = \"loan_status\")"
      ]
    },
    {
      "cell_type": "code",
      "execution_count": 15,
      "metadata": {
        "colab": {
          "base_uri": "https://localhost:8080/"
        },
        "id": "C1D4qWe-qKNR",
        "outputId": "f69ae5fb-889a-4569-9c11-4740e62d4714"
      },
      "outputs": [
        {
          "output_type": "execute_result",
          "data": {
            "text/plain": [
              "0    0\n",
              "1    0\n",
              "2    0\n",
              "3    0\n",
              "4    0\n",
              "Name: loan_status, dtype: int64"
            ]
          },
          "metadata": {},
          "execution_count": 15
        }
      ],
      "source": [
        "# Review the y variable Series\n",
        "y.head()"
      ]
    },
    {
      "cell_type": "code",
      "execution_count": 16,
      "metadata": {
        "colab": {
          "base_uri": "https://localhost:8080/",
          "height": 270
        },
        "id": "O4jvAu9vqKNS",
        "outputId": "1687e611-e3ca-4731-8297-7778a34eccb6"
      },
      "outputs": [
        {
          "output_type": "execute_result",
          "data": {
            "text/plain": [
              "   loan_size  interest_rate  borrower_income  debt_to_income  num_of_accounts  \\\n",
              "0    10700.0          7.672            52800        0.431818                5   \n",
              "1     8400.0          6.692            43600        0.311927                3   \n",
              "2     9000.0          6.963            46100        0.349241                3   \n",
              "3    10700.0          7.664            52700        0.430740                5   \n",
              "4    10800.0          7.698            53000        0.433962                5   \n",
              "\n",
              "   derogatory_marks  total_debt  \n",
              "0                 1       22800  \n",
              "1                 0       13600  \n",
              "2                 0       16100  \n",
              "3                 1       22700  \n",
              "4                 1       23000  "
            ],
            "text/html": [
              "\n",
              "  <div id=\"df-0debd1e9-197c-490b-913a-ce31e7421eee\">\n",
              "    <div class=\"colab-df-container\">\n",
              "      <div>\n",
              "<style scoped>\n",
              "    .dataframe tbody tr th:only-of-type {\n",
              "        vertical-align: middle;\n",
              "    }\n",
              "\n",
              "    .dataframe tbody tr th {\n",
              "        vertical-align: top;\n",
              "    }\n",
              "\n",
              "    .dataframe thead th {\n",
              "        text-align: right;\n",
              "    }\n",
              "</style>\n",
              "<table border=\"1\" class=\"dataframe\">\n",
              "  <thead>\n",
              "    <tr style=\"text-align: right;\">\n",
              "      <th></th>\n",
              "      <th>loan_size</th>\n",
              "      <th>interest_rate</th>\n",
              "      <th>borrower_income</th>\n",
              "      <th>debt_to_income</th>\n",
              "      <th>num_of_accounts</th>\n",
              "      <th>derogatory_marks</th>\n",
              "      <th>total_debt</th>\n",
              "    </tr>\n",
              "  </thead>\n",
              "  <tbody>\n",
              "    <tr>\n",
              "      <th>0</th>\n",
              "      <td>10700.0</td>\n",
              "      <td>7.672</td>\n",
              "      <td>52800</td>\n",
              "      <td>0.431818</td>\n",
              "      <td>5</td>\n",
              "      <td>1</td>\n",
              "      <td>22800</td>\n",
              "    </tr>\n",
              "    <tr>\n",
              "      <th>1</th>\n",
              "      <td>8400.0</td>\n",
              "      <td>6.692</td>\n",
              "      <td>43600</td>\n",
              "      <td>0.311927</td>\n",
              "      <td>3</td>\n",
              "      <td>0</td>\n",
              "      <td>13600</td>\n",
              "    </tr>\n",
              "    <tr>\n",
              "      <th>2</th>\n",
              "      <td>9000.0</td>\n",
              "      <td>6.963</td>\n",
              "      <td>46100</td>\n",
              "      <td>0.349241</td>\n",
              "      <td>3</td>\n",
              "      <td>0</td>\n",
              "      <td>16100</td>\n",
              "    </tr>\n",
              "    <tr>\n",
              "      <th>3</th>\n",
              "      <td>10700.0</td>\n",
              "      <td>7.664</td>\n",
              "      <td>52700</td>\n",
              "      <td>0.430740</td>\n",
              "      <td>5</td>\n",
              "      <td>1</td>\n",
              "      <td>22700</td>\n",
              "    </tr>\n",
              "    <tr>\n",
              "      <th>4</th>\n",
              "      <td>10800.0</td>\n",
              "      <td>7.698</td>\n",
              "      <td>53000</td>\n",
              "      <td>0.433962</td>\n",
              "      <td>5</td>\n",
              "      <td>1</td>\n",
              "      <td>23000</td>\n",
              "    </tr>\n",
              "  </tbody>\n",
              "</table>\n",
              "</div>\n",
              "      <button class=\"colab-df-convert\" onclick=\"convertToInteractive('df-0debd1e9-197c-490b-913a-ce31e7421eee')\"\n",
              "              title=\"Convert this dataframe to an interactive table.\"\n",
              "              style=\"display:none;\">\n",
              "        \n",
              "  <svg xmlns=\"http://www.w3.org/2000/svg\" height=\"24px\"viewBox=\"0 0 24 24\"\n",
              "       width=\"24px\">\n",
              "    <path d=\"M0 0h24v24H0V0z\" fill=\"none\"/>\n",
              "    <path d=\"M18.56 5.44l.94 2.06.94-2.06 2.06-.94-2.06-.94-.94-2.06-.94 2.06-2.06.94zm-11 1L8.5 8.5l.94-2.06 2.06-.94-2.06-.94L8.5 2.5l-.94 2.06-2.06.94zm10 10l.94 2.06.94-2.06 2.06-.94-2.06-.94-.94-2.06-.94 2.06-2.06.94z\"/><path d=\"M17.41 7.96l-1.37-1.37c-.4-.4-.92-.59-1.43-.59-.52 0-1.04.2-1.43.59L10.3 9.45l-7.72 7.72c-.78.78-.78 2.05 0 2.83L4 21.41c.39.39.9.59 1.41.59.51 0 1.02-.2 1.41-.59l7.78-7.78 2.81-2.81c.8-.78.8-2.07 0-2.86zM5.41 20L4 18.59l7.72-7.72 1.47 1.35L5.41 20z\"/>\n",
              "  </svg>\n",
              "      </button>\n",
              "      \n",
              "  <style>\n",
              "    .colab-df-container {\n",
              "      display:flex;\n",
              "      flex-wrap:wrap;\n",
              "      gap: 12px;\n",
              "    }\n",
              "\n",
              "    .colab-df-convert {\n",
              "      background-color: #E8F0FE;\n",
              "      border: none;\n",
              "      border-radius: 50%;\n",
              "      cursor: pointer;\n",
              "      display: none;\n",
              "      fill: #1967D2;\n",
              "      height: 32px;\n",
              "      padding: 0 0 0 0;\n",
              "      width: 32px;\n",
              "    }\n",
              "\n",
              "    .colab-df-convert:hover {\n",
              "      background-color: #E2EBFA;\n",
              "      box-shadow: 0px 1px 2px rgba(60, 64, 67, 0.3), 0px 1px 3px 1px rgba(60, 64, 67, 0.15);\n",
              "      fill: #174EA6;\n",
              "    }\n",
              "\n",
              "    [theme=dark] .colab-df-convert {\n",
              "      background-color: #3B4455;\n",
              "      fill: #D2E3FC;\n",
              "    }\n",
              "\n",
              "    [theme=dark] .colab-df-convert:hover {\n",
              "      background-color: #434B5C;\n",
              "      box-shadow: 0px 1px 3px 1px rgba(0, 0, 0, 0.15);\n",
              "      filter: drop-shadow(0px 1px 2px rgba(0, 0, 0, 0.3));\n",
              "      fill: #FFFFFF;\n",
              "    }\n",
              "  </style>\n",
              "\n",
              "      <script>\n",
              "        const buttonEl =\n",
              "          document.querySelector('#df-0debd1e9-197c-490b-913a-ce31e7421eee button.colab-df-convert');\n",
              "        buttonEl.style.display =\n",
              "          google.colab.kernel.accessAllowed ? 'block' : 'none';\n",
              "\n",
              "        async function convertToInteractive(key) {\n",
              "          const element = document.querySelector('#df-0debd1e9-197c-490b-913a-ce31e7421eee');\n",
              "          const dataTable =\n",
              "            await google.colab.kernel.invokeFunction('convertToInteractive',\n",
              "                                                     [key], {});\n",
              "          if (!dataTable) return;\n",
              "\n",
              "          const docLinkHtml = 'Like what you see? Visit the ' +\n",
              "            '<a target=\"_blank\" href=https://colab.research.google.com/notebooks/data_table.ipynb>data table notebook</a>'\n",
              "            + ' to learn more about interactive tables.';\n",
              "          element.innerHTML = '';\n",
              "          dataTable['output_type'] = 'display_data';\n",
              "          await google.colab.output.renderOutput(dataTable, element);\n",
              "          const docLink = document.createElement('div');\n",
              "          docLink.innerHTML = docLinkHtml;\n",
              "          element.appendChild(docLink);\n",
              "        }\n",
              "      </script>\n",
              "    </div>\n",
              "  </div>\n",
              "  "
            ]
          },
          "metadata": {},
          "execution_count": 16
        }
      ],
      "source": [
        "# Review the X variable DataFrame\n",
        "x.head()"
      ]
    },
    {
      "cell_type": "markdown",
      "metadata": {
        "id": "clelOoktqKNT"
      },
      "source": [
        "### Step 3: Check the balance of the labels variable (`y`) by using the `value_counts` function."
      ]
    },
    {
      "cell_type": "code",
      "execution_count": 17,
      "metadata": {
        "colab": {
          "base_uri": "https://localhost:8080/"
        },
        "id": "dhpwuSYXqKNT",
        "outputId": "ba1e3c2b-76b9-471c-dcac-bfec5d0966bf"
      },
      "outputs": [
        {
          "output_type": "execute_result",
          "data": {
            "text/plain": [
              "0    75036\n",
              "1     2500\n",
              "Name: loan_status, dtype: int64"
            ]
          },
          "metadata": {},
          "execution_count": 17
        }
      ],
      "source": [
        "# Check the balance of our target values\n",
        "y.value_counts()"
      ]
    },
    {
      "cell_type": "markdown",
      "metadata": {
        "id": "arkj9Sp9qKNT"
      },
      "source": [
        "### Step 4: Split the data into training and testing datasets by using `train_test_split`."
      ]
    },
    {
      "cell_type": "code",
      "execution_count": 18,
      "metadata": {
        "id": "FHPbtVfPqKNT"
      },
      "outputs": [],
      "source": [
        "# Import the train_test_learn module\n",
        "from sklearn.model_selection import train_test_split\n",
        "\n",
        "# Split the data using train_test_split\n",
        "# Assign a random_state of 1 to the function\n",
        "x_train, x_test, y_train, y_test = train_test_split(x,y,random_state=1,stratify=y)"
      ]
    },
    {
      "cell_type": "markdown",
      "metadata": {
        "id": "RHFCs5A4qKNU"
      },
      "source": [
        "---"
      ]
    },
    {
      "cell_type": "markdown",
      "metadata": {
        "id": "yN1EsggJqKNU"
      },
      "source": [
        "## Create a Logistic Regression Model with the Original Data"
      ]
    },
    {
      "cell_type": "markdown",
      "metadata": {
        "id": "pZXtTdrdqKNU"
      },
      "source": [
        "###  Step 1: Fit a logistic regression model by using the training data (`X_train` and `y_train`)."
      ]
    },
    {
      "cell_type": "code",
      "execution_count": 20,
      "metadata": {
        "colab": {
          "base_uri": "https://localhost:8080/",
          "height": 75
        },
        "id": "SpJLstHxqKNU",
        "outputId": "c5b5203d-1565-40ec-c4f9-adb1091fb7bc"
      },
      "outputs": [
        {
          "output_type": "execute_result",
          "data": {
            "text/plain": [
              "LogisticRegression(random_state=1)"
            ],
            "text/html": [
              "<style>#sk-container-id-2 {color: black;background-color: white;}#sk-container-id-2 pre{padding: 0;}#sk-container-id-2 div.sk-toggleable {background-color: white;}#sk-container-id-2 label.sk-toggleable__label {cursor: pointer;display: block;width: 100%;margin-bottom: 0;padding: 0.3em;box-sizing: border-box;text-align: center;}#sk-container-id-2 label.sk-toggleable__label-arrow:before {content: \"▸\";float: left;margin-right: 0.25em;color: #696969;}#sk-container-id-2 label.sk-toggleable__label-arrow:hover:before {color: black;}#sk-container-id-2 div.sk-estimator:hover label.sk-toggleable__label-arrow:before {color: black;}#sk-container-id-2 div.sk-toggleable__content {max-height: 0;max-width: 0;overflow: hidden;text-align: left;background-color: #f0f8ff;}#sk-container-id-2 div.sk-toggleable__content pre {margin: 0.2em;color: black;border-radius: 0.25em;background-color: #f0f8ff;}#sk-container-id-2 input.sk-toggleable__control:checked~div.sk-toggleable__content {max-height: 200px;max-width: 100%;overflow: auto;}#sk-container-id-2 input.sk-toggleable__control:checked~label.sk-toggleable__label-arrow:before {content: \"▾\";}#sk-container-id-2 div.sk-estimator input.sk-toggleable__control:checked~label.sk-toggleable__label {background-color: #d4ebff;}#sk-container-id-2 div.sk-label input.sk-toggleable__control:checked~label.sk-toggleable__label {background-color: #d4ebff;}#sk-container-id-2 input.sk-hidden--visually {border: 0;clip: rect(1px 1px 1px 1px);clip: rect(1px, 1px, 1px, 1px);height: 1px;margin: -1px;overflow: hidden;padding: 0;position: absolute;width: 1px;}#sk-container-id-2 div.sk-estimator {font-family: monospace;background-color: #f0f8ff;border: 1px dotted black;border-radius: 0.25em;box-sizing: border-box;margin-bottom: 0.5em;}#sk-container-id-2 div.sk-estimator:hover {background-color: #d4ebff;}#sk-container-id-2 div.sk-parallel-item::after {content: \"\";width: 100%;border-bottom: 1px solid gray;flex-grow: 1;}#sk-container-id-2 div.sk-label:hover label.sk-toggleable__label {background-color: #d4ebff;}#sk-container-id-2 div.sk-serial::before {content: \"\";position: absolute;border-left: 1px solid gray;box-sizing: border-box;top: 0;bottom: 0;left: 50%;z-index: 0;}#sk-container-id-2 div.sk-serial {display: flex;flex-direction: column;align-items: center;background-color: white;padding-right: 0.2em;padding-left: 0.2em;position: relative;}#sk-container-id-2 div.sk-item {position: relative;z-index: 1;}#sk-container-id-2 div.sk-parallel {display: flex;align-items: stretch;justify-content: center;background-color: white;position: relative;}#sk-container-id-2 div.sk-item::before, #sk-container-id-2 div.sk-parallel-item::before {content: \"\";position: absolute;border-left: 1px solid gray;box-sizing: border-box;top: 0;bottom: 0;left: 50%;z-index: -1;}#sk-container-id-2 div.sk-parallel-item {display: flex;flex-direction: column;z-index: 1;position: relative;background-color: white;}#sk-container-id-2 div.sk-parallel-item:first-child::after {align-self: flex-end;width: 50%;}#sk-container-id-2 div.sk-parallel-item:last-child::after {align-self: flex-start;width: 50%;}#sk-container-id-2 div.sk-parallel-item:only-child::after {width: 0;}#sk-container-id-2 div.sk-dashed-wrapped {border: 1px dashed gray;margin: 0 0.4em 0.5em 0.4em;box-sizing: border-box;padding-bottom: 0.4em;background-color: white;}#sk-container-id-2 div.sk-label label {font-family: monospace;font-weight: bold;display: inline-block;line-height: 1.2em;}#sk-container-id-2 div.sk-label-container {text-align: center;}#sk-container-id-2 div.sk-container {/* jupyter's `normalize.less` sets `[hidden] { display: none; }` but bootstrap.min.css set `[hidden] { display: none !important; }` so we also need the `!important` here to be able to override the default hidden behavior on the sphinx rendered scikit-learn.org. See: https://github.com/scikit-learn/scikit-learn/issues/21755 */display: inline-block !important;position: relative;}#sk-container-id-2 div.sk-text-repr-fallback {display: none;}</style><div id=\"sk-container-id-2\" class=\"sk-top-container\"><div class=\"sk-text-repr-fallback\"><pre>LogisticRegression(random_state=1)</pre><b>In a Jupyter environment, please rerun this cell to show the HTML representation or trust the notebook. <br />On GitHub, the HTML representation is unable to render, please try loading this page with nbviewer.org.</b></div><div class=\"sk-container\" hidden><div class=\"sk-item\"><div class=\"sk-estimator sk-toggleable\"><input class=\"sk-toggleable__control sk-hidden--visually\" id=\"sk-estimator-id-2\" type=\"checkbox\" checked><label for=\"sk-estimator-id-2\" class=\"sk-toggleable__label sk-toggleable__label-arrow\">LogisticRegression</label><div class=\"sk-toggleable__content\"><pre>LogisticRegression(random_state=1)</pre></div></div></div></div></div>"
            ]
          },
          "metadata": {},
          "execution_count": 20
        }
      ],
      "source": [
        "# Import the LogisticRegression module from SKLearn\n",
        "from sklearn.linear_model import LogisticRegression\n",
        "\n",
        "# Instantiate the Logistic Regression model\n",
        "# Assign a random_state parameter of 1 to the model\n",
        "classifierModel = LogisticRegression(solver='lbfgs', random_state=1)\n",
        "classifierModel\n",
        "# Fit the model using training data\n",
        "classifierModel.fit(x_train,y_train)"
      ]
    },
    {
      "cell_type": "markdown",
      "metadata": {
        "id": "pC6NnxlRqKNU"
      },
      "source": [
        "### Step 2: Save the predictions on the testing data labels by using the testing feature data (`X_test`) and the fitted model."
      ]
    },
    {
      "cell_type": "code",
      "execution_count": 21,
      "metadata": {
        "id": "yK1gp9MTqKNV"
      },
      "outputs": [],
      "source": [
        "# Make a prediction using the testing data\n",
        "classifierModel_predictions = classifierModel.predict(x_test)"
      ]
    },
    {
      "cell_type": "markdown",
      "metadata": {
        "id": "-cTm8dHZqKNV"
      },
      "source": [
        "### Step 3: Evaluate the model’s performance by doing the following:\n",
        "\n",
        "* Calculate the accuracy score of the model.\n",
        "\n",
        "* Generate a confusion matrix.\n",
        "\n",
        "* Print the classification report."
      ]
    },
    {
      "cell_type": "code",
      "execution_count": 28,
      "metadata": {
        "colab": {
          "base_uri": "https://localhost:8080/"
        },
        "id": "BUlZ8xVuqKNV",
        "outputId": "0031a5b1-d51b-474b-e8fa-92510f673be3"
      },
      "outputs": [
        {
          "output_type": "execute_result",
          "data": {
            "text/plain": [
              "0.9442676901753825"
            ]
          },
          "metadata": {},
          "execution_count": 28
        }
      ],
      "source": [
        "# Print the balanced_accuracy score of the model \n",
        "balanced_accuracy_score(y_test,classifierModel_predictions)\n"
      ]
    },
    {
      "cell_type": "code",
      "execution_count": 29,
      "metadata": {
        "colab": {
          "base_uri": "https://localhost:8080/"
        },
        "id": "k5U9YPKnqKNV",
        "outputId": "7f4b1f0b-248f-4d35-cc54-a8217ecf5364"
      },
      "outputs": [
        {
          "output_type": "execute_result",
          "data": {
            "text/plain": [
              "array([[18679,    80],\n",
              "       [   67,   558]])"
            ]
          },
          "metadata": {},
          "execution_count": 29
        }
      ],
      "source": [
        "# Generate a confusion matrix for the model\n",
        "confusion_matrix(y_test,classifierModel_predictions)"
      ]
    },
    {
      "cell_type": "code",
      "execution_count": 31,
      "metadata": {
        "colab": {
          "base_uri": "https://localhost:8080/"
        },
        "id": "_wsrBvsEqKNV",
        "outputId": "2c09397e-9f1c-4c27-9c8c-fbf865493f12"
      },
      "outputs": [
        {
          "output_type": "stream",
          "name": "stdout",
          "text": [
            "                precision    recall  f1-score   support\n",
            "\n",
            "  healthy_loan       1.00      1.00      1.00     18759\n",
            "high_risk_loan       0.87      0.89      0.88       625\n",
            "\n",
            "      accuracy                           0.99     19384\n",
            "     macro avg       0.94      0.94      0.94     19384\n",
            "  weighted avg       0.99      0.99      0.99     19384\n",
            "\n"
          ]
        }
      ],
      "source": [
        "# Print the classification report for the model\n",
        "print(classification_report(y_test,classifierModel_predictions, target_names=[\"healthy_loan\",\"high_risk_loan\"]))"
      ]
    },
    {
      "cell_type": "markdown",
      "metadata": {
        "id": "E9iWOUKYqKNV"
      },
      "source": [
        "### Step 4: Answer the following question."
      ]
    },
    {
      "cell_type": "markdown",
      "metadata": {
        "id": "7JbOQGA0qKNW"
      },
      "source": [
        "**Question:** How well does the logistic regression model predict both the `0` (healthy loan) and `1` (high-risk loan) labels?\n",
        "\n",
        "**Answer:** The model performs well with a balanced accuracy score of 94.4 %.  However, the prediction of healthy loans precision is 100% compared to prediction of high-risk loans precision of 87%.  There are approximately 18,000 more low-risk loans than high-risk loans and this imbalance in instances per classifier suggests that high-risk loan prediction precision would improve as instances increase.  "
      ]
    },
    {
      "cell_type": "markdown",
      "metadata": {
        "id": "qBPtVDJdqKNW"
      },
      "source": [
        "---"
      ]
    },
    {
      "cell_type": "markdown",
      "metadata": {
        "id": "b59ZIlZtqKNW"
      },
      "source": [
        "## Predict a Logistic Regression Model with Resampled Training Data"
      ]
    },
    {
      "cell_type": "markdown",
      "metadata": {
        "id": "QDBTzkmKqKNW"
      },
      "source": [
        "### Step 1: Use the `RandomOverSampler` module from the imbalanced-learn library to resample the data. Be sure to confirm that the labels have an equal number of data points. "
      ]
    },
    {
      "cell_type": "code",
      "execution_count": 33,
      "metadata": {
        "id": "wH8hCV73qKNW"
      },
      "outputs": [],
      "source": [
        "# Import the RandomOverSampler module form imbalanced-learn\n",
        "from imblearn.over_sampling import RandomOverSampler\n",
        "\n",
        "# Instantiate the random oversampler model\n",
        "# # Assign a random_state parameter of 1 to the model\n",
        "ros_model = RandomOverSampler(random_state=1)\n",
        "\n",
        "# Fit the original training data to the random_oversampler model\n",
        "x_resampled, y_resampled = ros_model.fit_resample(x_train,y_train)"
      ]
    },
    {
      "cell_type": "code",
      "execution_count": 35,
      "metadata": {
        "colab": {
          "base_uri": "https://localhost:8080/"
        },
        "id": "6AHF1G40qKNX",
        "outputId": "3db88f48-01cb-457e-c647-a9b73d48fade"
      },
      "outputs": [
        {
          "output_type": "execute_result",
          "data": {
            "text/plain": [
              "0    56277\n",
              "1    56277\n",
              "Name: loan_status, dtype: int64"
            ]
          },
          "metadata": {},
          "execution_count": 35
        }
      ],
      "source": [
        "# Count the distinct values of the resampled labels data\n",
        "y_resampled.value_counts()"
      ]
    },
    {
      "cell_type": "markdown",
      "metadata": {
        "id": "o1RkfpEDqKNX"
      },
      "source": [
        "### Step 2: Use the `LogisticRegression` classifier and the resampled data to fit the model and make predictions."
      ]
    },
    {
      "cell_type": "code",
      "execution_count": 36,
      "metadata": {
        "id": "6nkmHqg9qKNX"
      },
      "outputs": [],
      "source": [
        "# Instantiate the Logistic Regression model\n",
        "# Assign a random_state parameter of 1 to the model\n",
        "resample_model = LogisticRegression(solver='lbfgs', random_state=1)\n",
        "\n",
        "# Fit the model using the resampled training data\n",
        "resample_model.fit(x_resampled,y_resampled)\n",
        "\n",
        "# Make a prediction using the testing data\n",
        "resample_model_predictions = resample_model.predict(x_test)"
      ]
    },
    {
      "cell_type": "markdown",
      "metadata": {
        "id": "WpnfIBLrqKNX"
      },
      "source": [
        "### Step 3: Evaluate the model’s performance by doing the following:\n",
        "\n",
        "* Calculate the accuracy score of the model.\n",
        "\n",
        "* Generate a confusion matrix.\n",
        "\n",
        "* Print the classification report."
      ]
    },
    {
      "cell_type": "code",
      "execution_count": 37,
      "metadata": {
        "colab": {
          "base_uri": "https://localhost:8080/"
        },
        "id": "sF6pVhB9qKNX",
        "outputId": "2921c1f7-96ff-4d03-d5d0-05b769dad95f"
      },
      "outputs": [
        {
          "output_type": "execute_result",
          "data": {
            "text/plain": [
              "0.9959744975744975"
            ]
          },
          "metadata": {},
          "execution_count": 37
        }
      ],
      "source": [
        "# Print the balanced_accuracy score of the model \n",
        "balanced_accuracy_score(y_test,resample_model_predictions)"
      ]
    },
    {
      "cell_type": "code",
      "execution_count": 38,
      "metadata": {
        "colab": {
          "base_uri": "https://localhost:8080/"
        },
        "id": "5oO6GGagqKNX",
        "outputId": "b99771f9-186b-4b4d-fc6e-c3c8b71eb5e1"
      },
      "outputs": [
        {
          "output_type": "execute_result",
          "data": {
            "text/plain": [
              "array([[18668,    91],\n",
              "       [    2,   623]])"
            ]
          },
          "metadata": {},
          "execution_count": 38
        }
      ],
      "source": [
        "# Generate a confusion matrix for the model\n",
        "confusion_matrix(y_test,resample_model_predictions)"
      ]
    },
    {
      "cell_type": "code",
      "execution_count": 39,
      "metadata": {
        "colab": {
          "base_uri": "https://localhost:8080/"
        },
        "id": "_2etNr9IqKNX",
        "outputId": "43ee777e-37bb-47d6-b7a1-dc7aad04b8d2"
      },
      "outputs": [
        {
          "output_type": "stream",
          "name": "stdout",
          "text": [
            "              precision    recall  f1-score   support\n",
            "\n",
            "           0       1.00      1.00      1.00     18759\n",
            "           1       0.87      1.00      0.93       625\n",
            "\n",
            "    accuracy                           1.00     19384\n",
            "   macro avg       0.94      1.00      0.96     19384\n",
            "weighted avg       1.00      1.00      1.00     19384\n",
            "\n"
          ]
        }
      ],
      "source": [
        "# Print the classification report for the model\n",
        "print(classification_report(y_test,resample_model_predictions))"
      ]
    },
    {
      "cell_type": "markdown",
      "metadata": {
        "id": "gPlmgKFTqKNY"
      },
      "source": [
        "### Step 4: Answer the following question\n"
      ]
    },
    {
      "cell_type": "markdown",
      "metadata": {
        "id": "fekVqiekqKNY"
      },
      "source": [
        "**Question:** How well does the logistic regression model, fit with oversampled data, predict both the `0` (healthy loan) and `1` (high-risk loan) labels?\n",
        "\n",
        "**Answer:** The model performs well with a balanced accuracy score of 99.6 %. However, the prediction of healthy loans precision is 100% compared to prediction of high-risk loans precision of 87%. \n",
        "Notably, the logistic regression model with oversampled data has a recall recall rate than the previous model.  This could prevent high risk loans from slipping through the cracks and becoming costly unhealthy loans.  "
      ]
    }
  ],
  "metadata": {
    "kernelspec": {
      "display_name": "PythonData",
      "language": "python",
      "name": "pythondata"
    },
    "language_info": {
      "codemirror_mode": {
        "name": "ipython",
        "version": 3
      },
      "file_extension": ".py",
      "mimetype": "text/x-python",
      "name": "python",
      "nbconvert_exporter": "python",
      "pygments_lexer": "ipython3",
      "version": "3.7.7"
    },
    "vscode": {
      "interpreter": {
        "hash": "31f2aee4e71d21fbe5cf8b01ff0e069b9275f58929596ceb00d14d90e3e16cd6"
      }
    },
    "colab": {
      "provenance": [],
      "include_colab_link": true
    }
  },
  "nbformat": 4,
  "nbformat_minor": 0
}